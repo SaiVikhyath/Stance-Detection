{
  "cells": [
    {
      "cell_type": "code",
      "execution_count": 25,
      "metadata": {
        "id": "H4-6sGu9Tsqm"
      },
      "outputs": [],
      "source": [
        "import numpy as np\n",
        "import pandas as pd\n",
        "from tensorflow.keras.models import Sequential\n",
        "from tensorflow.keras.layers import Embedding, Bidirectional, LSTM, Dense\n",
        "from tensorflow.keras.preprocessing.text import Tokenizer\n",
        "from tensorflow.keras.preprocessing.sequence import pad_sequences\n",
        "from sklearn.model_selection import train_test_split\n",
        "from tensorflow.keras.optimizers import Adam\n",
        "# from google.colab import drive\n",
        "from tensorflow import keras\n",
        "from tensorflow.keras import layers\n",
        "import pickle\n",
        "from keras import backend as K"
      ]
    },
    {
      "cell_type": "code",
      "execution_count": 26,
      "metadata": {
        "colab": {
          "base_uri": "https://localhost:8080/"
        },
        "id": "zflUWRqqT0Za",
        "outputId": "4004728b-5bfe-4025-c88f-4d9266e3836f"
      },
      "outputs": [],
      "source": [
        "# Load the dataset\n",
        "# drive.mount('/content/drive')\n",
        "df =pd.read_csv(\"../Datasets/restructured_data.csv\")"
      ]
    },
    {
      "cell_type": "code",
      "execution_count": 27,
      "metadata": {
        "id": "x-RqQcdyT0f7"
      },
      "outputs": [],
      "source": [
        "# Split the dataset into input and output\n",
        "X = df['Data']\n",
        "#X.append(data['reformulated_tweets'])\n",
        "Y=df['Stance']\n",
        "#Y.append(data['stance'])\n",
        "Y = pd.get_dummies(Y).values\n",
        "#targets = df['target'].unique()"
      ]
    },
    {
      "cell_type": "code",
      "execution_count": 28,
      "metadata": {
        "id": "-3UtEw2gT0j5"
      },
      "outputs": [],
      "source": [
        "tokenizer = Tokenizer(num_words=10000)\n",
        "tokenizer.fit_on_texts(X)\n",
        "X = tokenizer.texts_to_sequences(X)\n",
        "\n",
        "# Pad the sequences\n",
        "maxlen = 500\n",
        "X = pad_sequences(X, padding='post', maxlen=maxlen)\n",
        "\n",
        "# Split the data into training and testing sets\n",
        "X_train, X_test, Y_train, Y_test = train_test_split(X, Y, test_size=0.2, random_state=42)\n",
        "\n"
      ]
    },
    {
      "cell_type": "code",
      "execution_count": 29,
      "metadata": {
        "colab": {
          "base_uri": "https://localhost:8080/"
        },
        "id": "rKpC3b_vT0mq",
        "outputId": "5701cff1-338e-4be4-87c4-c61367c695ab"
      },
      "outputs": [
        {
          "name": "stdout",
          "output_type": "stream",
          "text": [
            "Model: \"model_1\"\n",
            "_________________________________________________________________\n",
            " Layer (type)                Output Shape              Param #   \n",
            "=================================================================\n",
            " input_2 (InputLayer)        [(None, None)]            0         \n",
            "                                                                 \n",
            " embedding_1 (Embedding)     (None, None, 128)         1280000   \n",
            "                                                                 \n",
            " bidirectional_2 (Bidirectio  (None, None, 128)        98816     \n",
            " nal)                                                            \n",
            "                                                                 \n",
            " bidirectional_3 (Bidirectio  (None, 128)              98816     \n",
            " nal)                                                            \n",
            "                                                                 \n",
            " dense_1 (Dense)             (None, 3)                 387       \n",
            "                                                                 \n",
            "=================================================================\n",
            "Total params: 1,478,019\n",
            "Trainable params: 1,478,019\n",
            "Non-trainable params: 0\n",
            "_________________________________________________________________\n"
          ]
        }
      ],
      "source": [
        "# Input for variable-length sequences of integers\n",
        "inputs = keras.Input(shape=(None,), dtype=\"int32\")\n",
        "# Embed each integer in a 128-dimensional vector\n",
        "x = layers.Embedding(10000, 128)(inputs)\n",
        "# Add 2 bidirectional LSTMs\n",
        "x = layers.Bidirectional(layers.LSTM(64, return_sequences=True))(x)\n",
        "x = layers.Bidirectional(layers.LSTM(64))(x)\n",
        "# Add a classifier\n",
        "outputs = layers.Dense(3, activation=\"softmax\")(x)\n",
        "model = keras.Model(inputs, outputs)\n",
        "model.summary()"
      ]
    },
    {
      "cell_type": "code",
      "execution_count": 30,
      "metadata": {
        "id": "1tbzO-r9n5OB"
      },
      "outputs": [],
      "source": [
        "\n",
        "def recall_m(y_true, y_pred):\n",
        "    true_positives = K.sum(K.round(K.clip(y_true * y_pred, 0, 1)))\n",
        "    possible_positives = K.sum(K.round(K.clip(y_true, 0, 1)))\n",
        "    recall = true_positives / (possible_positives + K.epsilon())\n",
        "    return recall\n",
        "\n",
        "def precision_m(y_true, y_pred):\n",
        "    true_positives = K.sum(K.round(K.clip(y_true * y_pred, 0, 1)))\n",
        "    predicted_positives = K.sum(K.round(K.clip(y_pred, 0, 1)))\n",
        "    precision = true_positives / (predicted_positives + K.epsilon())\n",
        "    return precision\n",
        "\n",
        "def f1_m(y_true, y_pred):\n",
        "    precision = precision_m(y_true, y_pred)\n",
        "    recall = recall_m(y_true, y_pred)\n",
        "    return 2*((precision*recall)/(precision+recall+K.epsilon()))"
      ]
    },
    {
      "cell_type": "code",
      "execution_count": 31,
      "metadata": {
        "id": "-7jM9qRaT0r-"
      },
      "outputs": [],
      "source": [
        "optimizer = Adam(learning_rate=0.003)\n",
        "model.compile(optimizer=optimizer, loss=\"categorical_crossentropy\", metrics=[\"accuracy\", f1_m, precision_m, recall_m])"
      ]
    },
    {
      "cell_type": "code",
      "execution_count": 16,
      "metadata": {
        "id": "nlXXoe50T_4f"
      },
      "outputs": [],
      "source": [
        "# # Define the model\n",
        "# model = Sequential()\n",
        "# model.add(Embedding(10000, 128, input_length=maxlen))\n",
        "# model.add(Bidirectional(LSTM(64)))\n",
        "# model.add(Dense(3, activation='softmax'))\n",
        "\n",
        "# # Compile the model\n",
        "# model.compile(optimizer='adam', loss='categorical_crossentropy', metrics=['accuracy'])\n"
      ]
    },
    {
      "cell_type": "code",
      "execution_count": 32,
      "metadata": {
        "colab": {
          "base_uri": "https://localhost:8080/"
        },
        "id": "o4t1tKuzqDGZ",
        "outputId": "2d805872-fc88-4671-f607-2ba8c669b57a"
      },
      "outputs": [
        {
          "name": "stdout",
          "output_type": "stream",
          "text": [
            "Epoch 1/30\n",
            "36/36 [==============================] - 109s 3s/step - loss: 0.9932 - accuracy: 0.5078 - f1_m: 0.3549 - precision_m: 0.4524 - recall_m: 0.3070 - val_loss: 0.9464 - val_accuracy: 0.5595 - val_f1_m: 0.5317 - val_precision_m: 0.6146 - val_recall_m: 0.4702\n",
            "Epoch 2/30\n",
            "36/36 [==============================] - 87s 2s/step - loss: 0.6610 - accuracy: 0.6735 - f1_m: 0.6403 - precision_m: 0.7684 - recall_m: 0.5528 - val_loss: 0.9828 - val_accuracy: 0.5311 - val_f1_m: 0.4843 - val_precision_m: 0.6335 - val_recall_m: 0.3934\n",
            "Epoch 3/30\n",
            "36/36 [==============================] - 73s 2s/step - loss: 0.3759 - accuracy: 0.8481 - f1_m: 0.8408 - precision_m: 0.8621 - recall_m: 0.8218 - val_loss: 1.1316 - val_accuracy: 0.5453 - val_f1_m: 0.5347 - val_precision_m: 0.5686 - val_recall_m: 0.5050\n",
            "Epoch 4/30\n",
            "36/36 [==============================] - 74s 2s/step - loss: 0.1453 - accuracy: 0.9502 - f1_m: 0.9482 - precision_m: 0.9528 - recall_m: 0.9437 - val_loss: 1.4966 - val_accuracy: 0.5364 - val_f1_m: 0.5308 - val_precision_m: 0.5450 - val_recall_m: 0.5176\n",
            "Epoch 5/30\n",
            "36/36 [==============================] - 77s 2s/step - loss: 0.0541 - accuracy: 0.9822 - f1_m: 0.9820 - precision_m: 0.9826 - recall_m: 0.9813 - val_loss: 1.7476 - val_accuracy: 0.5702 - val_f1_m: 0.5635 - val_precision_m: 0.5730 - val_recall_m: 0.5545\n",
            "Epoch 6/30\n",
            "36/36 [==============================] - 70s 2s/step - loss: 0.0325 - accuracy: 0.9911 - f1_m: 0.9913 - precision_m: 0.9922 - recall_m: 0.9905 - val_loss: 1.9441 - val_accuracy: 0.5595 - val_f1_m: 0.5643 - val_precision_m: 0.5699 - val_recall_m: 0.5589\n",
            "Epoch 7/30\n",
            "36/36 [==============================] - 75s 2s/step - loss: 0.0192 - accuracy: 0.9951 - f1_m: 0.9952 - precision_m: 0.9952 - recall_m: 0.9952 - val_loss: 2.0801 - val_accuracy: 0.5275 - val_f1_m: 0.5279 - val_precision_m: 0.5322 - val_recall_m: 0.5237\n",
            "Epoch 8/30\n",
            "36/36 [==============================] - 82s 2s/step - loss: 0.0125 - accuracy: 0.9973 - f1_m: 0.9972 - precision_m: 0.9974 - recall_m: 0.9970 - val_loss: 2.1319 - val_accuracy: 0.5488 - val_f1_m: 0.5448 - val_precision_m: 0.5478 - val_recall_m: 0.5419\n",
            "Epoch 9/30\n",
            "36/36 [==============================] - 79s 2s/step - loss: 0.0129 - accuracy: 0.9973 - f1_m: 0.9974 - precision_m: 0.9974 - recall_m: 0.9974 - val_loss: 2.4913 - val_accuracy: 0.5666 - val_f1_m: 0.5649 - val_precision_m: 0.5676 - val_recall_m: 0.5623\n",
            "Epoch 10/30\n",
            "36/36 [==============================] - 83s 2s/step - loss: 0.0255 - accuracy: 0.9916 - f1_m: 0.9897 - precision_m: 0.9897 - recall_m: 0.9897 - val_loss: 1.7901 - val_accuracy: 0.5684 - val_f1_m: 0.5646 - val_precision_m: 0.5701 - val_recall_m: 0.5593\n",
            "Epoch 11/30\n",
            "36/36 [==============================] - 79s 2s/step - loss: 0.0417 - accuracy: 0.9889 - f1_m: 0.9885 - precision_m: 0.9891 - recall_m: 0.9878 - val_loss: 2.3375 - val_accuracy: 0.5062 - val_f1_m: 0.5073 - val_precision_m: 0.5133 - val_recall_m: 0.5015\n",
            "Epoch 12/30\n",
            "36/36 [==============================] - 76s 2s/step - loss: 0.0545 - accuracy: 0.9836 - f1_m: 0.9839 - precision_m: 0.9852 - recall_m: 0.9826 - val_loss: 2.0205 - val_accuracy: 0.5702 - val_f1_m: 0.5681 - val_precision_m: 0.5741 - val_recall_m: 0.5623\n",
            "Epoch 13/30\n",
            "36/36 [==============================] - 66s 2s/step - loss: 0.0160 - accuracy: 0.9964 - f1_m: 0.9963 - precision_m: 0.9965 - recall_m: 0.9961 - val_loss: 2.0713 - val_accuracy: 0.5702 - val_f1_m: 0.5663 - val_precision_m: 0.5708 - val_recall_m: 0.5619\n",
            "Epoch 14/30\n",
            "36/36 [==============================] - 64s 2s/step - loss: 0.0095 - accuracy: 0.9969 - f1_m: 0.9970 - precision_m: 0.9970 - recall_m: 0.9970 - val_loss: 2.2270 - val_accuracy: 0.5648 - val_f1_m: 0.5604 - val_precision_m: 0.5621 - val_recall_m: 0.5588\n",
            "Epoch 15/30\n",
            "36/36 [==============================] - 68s 2s/step - loss: 0.0041 - accuracy: 0.9991 - f1_m: 0.9991 - precision_m: 0.9991 - recall_m: 0.9991 - val_loss: 2.3388 - val_accuracy: 0.5560 - val_f1_m: 0.5542 - val_precision_m: 0.5561 - val_recall_m: 0.5523\n",
            "Epoch 16/30\n",
            "36/36 [==============================] - 66s 2s/step - loss: 0.0019 - accuracy: 0.9996 - f1_m: 0.9996 - precision_m: 0.9996 - recall_m: 0.9996 - val_loss: 2.4804 - val_accuracy: 0.5595 - val_f1_m: 0.5550 - val_precision_m: 0.5569 - val_recall_m: 0.5532\n",
            "Epoch 17/30\n",
            "36/36 [==============================] - 62s 2s/step - loss: 0.0016 - accuracy: 0.9996 - f1_m: 0.9996 - precision_m: 0.9996 - recall_m: 0.9996 - val_loss: 2.5137 - val_accuracy: 0.5613 - val_f1_m: 0.5595 - val_precision_m: 0.5614 - val_recall_m: 0.5575\n",
            "Epoch 18/30\n",
            "36/36 [==============================] - 64s 2s/step - loss: 0.0015 - accuracy: 0.9996 - f1_m: 0.9993 - precision_m: 0.9996 - recall_m: 0.9991 - val_loss: 2.5695 - val_accuracy: 0.5613 - val_f1_m: 0.5598 - val_precision_m: 0.5612 - val_recall_m: 0.5584\n",
            "Epoch 19/30\n",
            "36/36 [==============================] - 78s 2s/step - loss: 0.0014 - accuracy: 0.9991 - f1_m: 0.9991 - precision_m: 0.9991 - recall_m: 0.9991 - val_loss: 2.6258 - val_accuracy: 0.5648 - val_f1_m: 0.5622 - val_precision_m: 0.5648 - val_recall_m: 0.5597\n",
            "Epoch 20/30\n",
            "36/36 [==============================] - 90s 3s/step - loss: 0.0011 - accuracy: 0.9996 - f1_m: 0.9993 - precision_m: 0.9996 - recall_m: 0.9991 - val_loss: 2.6729 - val_accuracy: 0.5595 - val_f1_m: 0.5601 - val_precision_m: 0.5623 - val_recall_m: 0.5579\n",
            "Epoch 21/30\n",
            "36/36 [==============================] - 75s 2s/step - loss: 0.0010 - accuracy: 0.9996 - f1_m: 0.9993 - precision_m: 0.9996 - recall_m: 0.9991 - val_loss: 2.7205 - val_accuracy: 0.5648 - val_f1_m: 0.5633 - val_precision_m: 0.5652 - val_recall_m: 0.5614\n",
            "Epoch 22/30\n",
            "36/36 [==============================] - 70s 2s/step - loss: 9.6654e-04 - accuracy: 0.9996 - f1_m: 0.9993 - precision_m: 0.9996 - recall_m: 0.9991 - val_loss: 2.7689 - val_accuracy: 0.5648 - val_f1_m: 0.5629 - val_precision_m: 0.5645 - val_recall_m: 0.5614\n",
            "Epoch 23/30\n",
            "36/36 [==============================] - 58s 2s/step - loss: 9.1387e-04 - accuracy: 0.9991 - f1_m: 0.9993 - precision_m: 0.9996 - recall_m: 0.9991 - val_loss: 2.8079 - val_accuracy: 0.5666 - val_f1_m: 0.5642 - val_precision_m: 0.5652 - val_recall_m: 0.5631\n",
            "Epoch 24/30\n",
            "36/36 [==============================] - 58s 2s/step - loss: 8.6162e-04 - accuracy: 0.9991 - f1_m: 0.9993 - precision_m: 0.9996 - recall_m: 0.9991 - val_loss: 2.8592 - val_accuracy: 0.5684 - val_f1_m: 0.5632 - val_precision_m: 0.5649 - val_recall_m: 0.5614\n",
            "Epoch 25/30\n",
            "36/36 [==============================] - 58s 2s/step - loss: 9.1350e-04 - accuracy: 0.9996 - f1_m: 0.9996 - precision_m: 0.9996 - recall_m: 0.9996 - val_loss: 2.8802 - val_accuracy: 0.5684 - val_f1_m: 0.5634 - val_precision_m: 0.5658 - val_recall_m: 0.5610\n",
            "Epoch 26/30\n",
            "36/36 [==============================] - 63s 2s/step - loss: 8.8656e-04 - accuracy: 0.9996 - f1_m: 0.9996 - precision_m: 0.9996 - recall_m: 0.9996 - val_loss: 2.9074 - val_accuracy: 0.5702 - val_f1_m: 0.5680 - val_precision_m: 0.5693 - val_recall_m: 0.5666\n",
            "Epoch 27/30\n",
            "36/36 [==============================] - 58s 2s/step - loss: 8.6525e-04 - accuracy: 0.9991 - f1_m: 0.9991 - precision_m: 0.9991 - recall_m: 0.9991 - val_loss: 2.9346 - val_accuracy: 0.5666 - val_f1_m: 0.5628 - val_precision_m: 0.5647 - val_recall_m: 0.5610\n",
            "Epoch 28/30\n",
            "36/36 [==============================] - 86s 2s/step - loss: 8.4253e-04 - accuracy: 0.9991 - f1_m: 0.9993 - precision_m: 0.9996 - recall_m: 0.9991 - val_loss: 2.9658 - val_accuracy: 0.5648 - val_f1_m: 0.5632 - val_precision_m: 0.5651 - val_recall_m: 0.5614\n",
            "Epoch 29/30\n",
            "36/36 [==============================] - 73s 2s/step - loss: 8.1553e-04 - accuracy: 0.9996 - f1_m: 0.9993 - precision_m: 0.9996 - recall_m: 0.9991 - val_loss: 2.9897 - val_accuracy: 0.5648 - val_f1_m: 0.5628 - val_precision_m: 0.5641 - val_recall_m: 0.5614\n",
            "Epoch 30/30\n",
            "36/36 [==============================] - 78s 2s/step - loss: 8.5070e-04 - accuracy: 0.9996 - f1_m: 0.9996 - precision_m: 0.9996 - recall_m: 0.9996 - val_loss: 3.0128 - val_accuracy: 0.5648 - val_f1_m: 0.5628 - val_precision_m: 0.5641 - val_recall_m: 0.5614\n"
          ]
        },
        {
          "data": {
            "text/plain": [
              "<keras.callbacks.History at 0x1becadbb160>"
            ]
          },
          "execution_count": 32,
          "metadata": {},
          "output_type": "execute_result"
        }
      ],
      "source": [
        "model.fit(X_train, Y_train, batch_size=64, epochs=30, validation_data=(X_test, Y_test))"
      ]
    },
    {
      "cell_type": "code",
      "execution_count": 33,
      "metadata": {
        "colab": {
          "base_uri": "https://localhost:8080/"
        },
        "id": "UaH0WT2DiZu9",
        "outputId": "b8d04369-af19-4ba9-fbd4-7cd3c92c49a4"
      },
      "outputs": [
        {
          "name": "stdout",
          "output_type": "stream",
          "text": [
            "Test loss: 3.012768030166626\n",
            "Test accuracy: 0.5648312568664551\n"
          ]
        },
        {
          "data": {
            "text/plain": [
              "[3.012768030166626,\n",
              " 0.5648312568664551,\n",
              " 0.5578296780586243,\n",
              " 0.5594227313995361,\n",
              " 0.5562865734100342]"
            ]
          },
          "execution_count": 33,
          "metadata": {},
          "output_type": "execute_result"
        }
      ],
      "source": [
        "score = model.evaluate(X_test, Y_test, verbose=0)\n",
        "print('Test loss:', score[0])\n",
        "print('Test accuracy:', score[1])\n",
        "score"
      ]
    },
    {
      "cell_type": "code",
      "execution_count": 34,
      "metadata": {
        "colab": {
          "base_uri": "https://localhost:8080/"
        },
        "id": "7EC_BDXvUF0g",
        "outputId": "9c656471-c5ff-4f2f-b348-13ee1f861608"
      },
      "outputs": [
        {
          "name": "stdout",
          "output_type": "stream",
          "text": [
            "AGAINST: [1 0 0]\n",
            "FAVOR [0 1 0]\n",
            "NONE [0 0 1]\n"
          ]
        }
      ],
      "source": [
        "print(\"AGAINST:\",Y[0])\n",
        "print(\"FAVOR\",Y[10])\n",
        "print(\"NONE\",Y[9])"
      ]
    },
    {
      "cell_type": "code",
      "execution_count": 35,
      "metadata": {
        "colab": {
          "base_uri": "https://localhost:8080/"
        },
        "id": "KIBkm6LbUGH2",
        "outputId": "7f970b49-af66-4d25-dd4c-8f4a645ebde4"
      },
      "outputs": [
        {
          "name": "stdout",
          "output_type": "stream",
          "text": [
            "1/1 [==============================] - 1s 1s/step\n",
            "1\n",
            "1/1 [==============================] - 0s 53ms/step\n",
            "0\n"
          ]
        }
      ],
      "source": [
        "# Predict the stance of new texts\n",
        "new_texts = [\"Women are smart\", \"Feminism is a myth\"]\n",
        "new_targets = [\"Feminist Movement\",\"Feminist Movement\",\"Feminist Movement\"]\n",
        "new_texts = tokenizer.texts_to_sequences(new_texts)\n",
        "new_texts = pad_sequences(new_texts, padding='post', maxlen=maxlen)\n",
        "predictions = []\n",
        "for i in range(len(new_texts)):\n",
        "  pred = model.predict(np.array([new_texts[i]]))\n",
        "  print(np.argmax(pred))\n"
      ]
    },
    {
      "cell_type": "code",
      "execution_count": 36,
      "metadata": {
        "colab": {
          "base_uri": "https://localhost:8080/",
          "height": 371
        },
        "id": "UjpduygmnMFM",
        "outputId": "41a22e4b-a9fe-417a-f281-365e17c4a534"
      },
      "outputs": [
        {
          "name": "stdout",
          "output_type": "stream",
          "text": [
            "9/9 [==============================] - 3s 371ms/step\n",
            "              precision    recall  f1-score   support\n",
            "\n",
            "           0       0.64      0.69      0.67       268\n",
            "           1       0.45      0.42      0.44       135\n",
            "           2       0.51      0.47      0.49       160\n",
            "\n",
            "    accuracy                           0.56       563\n",
            "   macro avg       0.53      0.53      0.53       563\n",
            "weighted avg       0.56      0.56      0.56       563\n",
            "\n"
          ]
        }
      ],
      "source": [
        "from sklearn.metrics import classification_report\n",
        "\n",
        "y_pred = model.predict(X_test, batch_size=64, verbose=1)\n",
        "y_pred_bool = np.argmax(y_pred, axis=1)\n",
        "y_test = np.argmax(Y_test, axis=1)\n",
        "\n",
        "print(classification_report(y_test, y_pred_bool))"
      ]
    },
    {
      "cell_type": "code",
      "execution_count": 37,
      "metadata": {},
      "outputs": [
        {
          "name": "stdout",
          "output_type": "stream",
          "text": [
            "[[185  42  41]\n",
            " [ 45  57  33]\n",
            " [ 57  27  76]]\n"
          ]
        }
      ],
      "source": [
        "from sklearn.metrics import confusion_matrix\n",
        "from sklearn.metrics import precision_score\n",
        "from sklearn.metrics import accuracy_score\n",
        "from sklearn.metrics import f1_score\n",
        "from sklearn.metrics import recall_score\n",
        "\n",
        "print(confusion_matrix(y_true=y_test, y_pred=y_pred_bool))"
      ]
    },
    {
      "cell_type": "code",
      "execution_count": 38,
      "metadata": {},
      "outputs": [
        {
          "name": "stdout",
          "output_type": "stream",
          "text": [
            "Accuracy:  0.5648312611012434\n",
            "Recall Score:  0.5648312611012434\n",
            "Precision Score:  0.559308540814411\n",
            "F1 Score:  0.5614277030395591\n"
          ]
        }
      ],
      "source": [
        "print(\"Accuracy: \",accuracy_score(y_test, y_pred_bool))\n",
        "print(\"Recall Score: \",recall_score(y_test, y_pred_bool, average='weighted'))\n",
        "print(\"Precision Score: \",precision_score(y_test, y_pred_bool, average='weighted'))\n",
        "print(\"F1 Score: \",f1_score(y_test, y_pred_bool, average='weighted'))"
      ]
    },
    {
      "cell_type": "code",
      "execution_count": 39,
      "metadata": {
        "id": "eCE2Ff4gUM9B"
      },
      "outputs": [
        {
          "name": "stdout",
          "output_type": "stream",
          "text": [
            "Keras weights file (<HDF5 file \"variables.h5\" (mode r+)>) saving:\n",
            "...layers\\bidirectional\n",
            "......vars\n",
            "...layers\\bidirectional\\backward_layer\n",
            "......vars\n",
            "...layers\\bidirectional\\backward_layer\\cell\n",
            "......vars\n",
            ".........0\n",
            ".........1\n",
            ".........2\n",
            "...layers\\bidirectional\\forward_layer\n",
            "......vars\n",
            "...layers\\bidirectional\\forward_layer\\cell\n",
            "......vars\n",
            ".........0\n",
            ".........1\n",
            ".........2\n",
            "...layers\\bidirectional\\layer\n",
            "......vars\n",
            "...layers\\bidirectional\\layer\\cell\n",
            "......vars\n",
            "...layers\\bidirectional_1\n",
            "......vars\n",
            "...layers\\bidirectional_1\\backward_layer\n",
            "......vars\n",
            "...layers\\bidirectional_1\\backward_layer\\cell\n",
            "......vars\n",
            ".........0\n",
            ".........1\n",
            ".........2\n",
            "...layers\\bidirectional_1\\forward_layer\n",
            "......vars\n",
            "...layers\\bidirectional_1\\forward_layer\\cell\n",
            "......vars\n",
            ".........0\n",
            ".........1\n",
            ".........2\n",
            "...layers\\bidirectional_1\\layer\n",
            "......vars\n",
            "...layers\\bidirectional_1\\layer\\cell\n",
            "......vars\n",
            "...layers\\dense\n",
            "......vars\n",
            ".........0\n",
            ".........1\n",
            "...layers\\embedding\n",
            "......vars\n",
            ".........0\n",
            "...layers\\input_layer\n",
            "......vars\n",
            "...metrics\\mean\n",
            "......vars\n",
            ".........0\n",
            ".........1\n",
            "...metrics\\mean_metric_wrapper\n",
            "......vars\n",
            ".........0\n",
            ".........1\n",
            "...metrics\\mean_metric_wrapper_1\n",
            "......vars\n",
            ".........0\n",
            ".........1\n",
            "...metrics\\mean_metric_wrapper_2\n",
            "......vars\n",
            ".........0\n",
            ".........1\n",
            "...metrics\\mean_metric_wrapper_3\n",
            "......vars\n",
            ".........0\n",
            ".........1\n",
            "...optimizer\n",
            "......vars\n",
            ".........0\n",
            ".........1\n",
            ".........10\n",
            ".........11\n",
            ".........12\n",
            ".........13\n",
            ".........14\n",
            ".........15\n",
            ".........16\n",
            ".........17\n",
            ".........18\n",
            ".........19\n",
            ".........2\n",
            ".........20\n",
            ".........21\n",
            ".........22\n",
            ".........23\n",
            ".........24\n",
            ".........25\n",
            ".........26\n",
            ".........27\n",
            ".........28\n",
            ".........29\n",
            ".........3\n",
            ".........30\n",
            ".........4\n",
            ".........5\n",
            ".........6\n",
            ".........7\n",
            ".........8\n",
            ".........9\n",
            "...vars\n",
            "Keras model archive saving:\n",
            "File Name                                             Modified             Size\n",
            "config.json                                    2023-04-12 13:51:01         4619\n",
            "metadata.json                                  2023-04-12 13:51:01           64\n",
            "variables.h5                                   2023-04-12 13:51:01     17803024\n"
          ]
        }
      ],
      "source": [
        "pickle.dump(model, open(\"Bi-LSTM.pkl\", 'wb'))"
      ]
    },
    {
      "cell_type": "code",
      "execution_count": null,
      "metadata": {},
      "outputs": [],
      "source": []
    },
    {
      "cell_type": "code",
      "execution_count": null,
      "metadata": {},
      "outputs": [],
      "source": []
    }
  ],
  "metadata": {
    "accelerator": "GPU",
    "colab": {
      "provenance": []
    },
    "gpuClass": "standard",
    "kernelspec": {
      "display_name": "Python 3",
      "name": "python3"
    },
    "language_info": {
      "codemirror_mode": {
        "name": "ipython",
        "version": 3
      },
      "file_extension": ".py",
      "mimetype": "text/x-python",
      "name": "python",
      "nbconvert_exporter": "python",
      "pygments_lexer": "ipython3",
      "version": "3.10.7"
    }
  },
  "nbformat": 4,
  "nbformat_minor": 0
}
