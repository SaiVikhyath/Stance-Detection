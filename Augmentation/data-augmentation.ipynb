{
 "cells": [
  {
   "cell_type": "markdown",
   "metadata": {},
   "source": [
    "Author: Vikhy\n",
    "<br>\n",
    "Date: 22 March, 2022"
   ]
  },
  {
   "attachments": {},
   "cell_type": "markdown",
   "metadata": {},
   "source": [
    "## Data Augmentation\n",
    "1. Data Expansion\n",
    "2. Synonym Expansion\n",
    "3. Phrase Expansion\n",
    "4. Query Reformulation"
   ]
  },
  {
   "cell_type": "code",
   "execution_count": 1,
   "metadata": {},
   "outputs": [],
   "source": [
    "import pandas as pd\n",
    "\n",
    "data = pd.read_csv(\"../Datasets/preprocessed_tweets.csv\")\n",
    "\n",
    "target = data[\"Target\"]\n",
    "tweets = data[\"Tweet\"]\n",
    "stance = data[\"Stance\"]"
   ]
  },
  {
   "cell_type": "code",
   "execution_count": 2,
   "metadata": {},
   "outputs": [
    {
     "name": "stdout",
     "output_type": "stream",
     "text": [
      "       Target                                              Tweet   Stance\n",
      "0     Atheism  dear lord thank u for all of ur blessing forgi...  AGAINST\n",
      "1     Atheism  Blessed are the peacemaker for they shall be c...  AGAINST\n",
      "2     Atheism  I am not conformed to this world I am transfor...  AGAINST\n",
      "3     Atheism  salad should be prayed with focus and understa...  AGAINST\n",
      "4     Atheism  And stay in your house and do not display ours...  AGAINST\n",
      "...       ...                                                ...      ...\n",
      "3261   Racism  Ok he doe n't look like a mexican anymore but ...    FAVOR\n",
      "3262   Racism  Look around this crowd We are young old We are...  AGAINST\n",
      "3263   Racism  King Charles slavery research is not even bett...  AGAINST\n",
      "3264   Racism  In The Passion Of The Christ 2 Jesus get raped...    FAVOR\n",
      "3265   Racism  Congratulations 12yearsaslave Go to Africa or ...    FAVOR\n",
      "\n",
      "[3266 rows x 3 columns]\n"
     ]
    }
   ],
   "source": [
    "print(data)"
   ]
  },
  {
   "cell_type": "code",
   "execution_count": 3,
   "metadata": {},
   "outputs": [
    {
     "name": "stdout",
     "output_type": "stream",
     "text": [
      "['Atheism godlessness' 'Climate Change is a Real Concern concern'\n",
      " 'Feminist Movement movement' 'Hillary Clinton Hilary_Clinton'\n",
      " 'Legalization of Abortion miscarriage' 'Gun Laws Pentateuch'\n",
      " 'Immigration in-migration' 'Racism racism']\n"
     ]
    }
   ],
   "source": [
    "# Synonym Expansion\n",
    "\n",
    "from nltk.tokenize import word_tokenize\n",
    "from nltk.corpus import wordnet\n",
    "\n",
    "\n",
    "def synonym_expansion(target):\n",
    "    tokens = word_tokenize(target)\n",
    "    extended_tokens = []\n",
    "    for i, token in enumerate(tokens):\n",
    "        synonyms = []\n",
    "        for synonym in wordnet.synsets(token):\n",
    "            for lemma in synonym.lemmas():\n",
    "                synonyms.append(lemma.name())\n",
    "                if len(synonyms) >= 3:\n",
    "                    break\n",
    "            if len(synonyms) >= 3:\n",
    "                    break\n",
    "        if synonyms:\n",
    "            idx = tokens.index(token)\n",
    "            extended_tokens = tokens + [synonyms[1]]\n",
    "            # tokens[idx] = synonyms[2]\n",
    "            # extended_tokens = tokens\n",
    "    return \" \".join(extended_tokens)\n",
    "\n",
    "extended_target = target.apply(synonym_expansion)\n",
    "print(extended_target.unique())"
   ]
  },
  {
   "cell_type": "code",
   "execution_count": 4,
   "metadata": {},
   "outputs": [
    {
     "name": "stderr",
     "output_type": "stream",
     "text": [
      "[nltk_data] Downloading package wordnet to\n",
      "[nltk_data]     C:\\Users\\vikhy\\AppData\\Roaming\\nltk_data...\n",
      "[nltk_data]   Package wordnet is already up-to-date!\n"
     ]
    },
    {
     "name": "stdout",
     "output_type": "stream",
     "text": [
      "['the doctrine or belief that there is no God'\n",
      " 'the weather in some location averaged over some long period of time an event that occurs when something passes from one state or phase to another have the quality of being; (copula, used with an adjective or a predicate noun) a metric unit of length equal to one ten billionth of a meter (or 0.0001 micron); used to specify wavelengths of electromagnetic radiation any rational or irrational number something that interests you because it is important or affects you'\n",
      " 'a supporter of feminism a change of position that does not entail a change of location'\n",
      " 'New Zealand mountaineer who in 1953 first attained the summit of Mount Everest with his Sherpa guide Tenzing Norgay (born in 1919) wife of President Clinton and later a woman member of the United States Senate (1947-)'\n",
      " 'the act of making lawful  termination of pregnancy'\n",
      " 'a weapon that discharges a missile at high velocity (especially from a metal tube or barrel) the first of three divisions of the Hebrew Scriptures comprising the first five books of the Hebrew Bible considered as a unit'\n",
      " 'migration into a place (especially migration to a country of which you are not a native in order to settle there)'\n",
      " 'the prejudice that members of one race are intrinsically superior to members of other races']\n"
     ]
    }
   ],
   "source": [
    "# Phrase Expansion\n",
    "\n",
    "import nltk\n",
    "from nltk.tokenize import word_tokenize\n",
    "from nltk.corpus import wordnet\n",
    "\n",
    "nltk.download(\"wordnet\")\n",
    "\n",
    "def phrase_expansion(target):\n",
    "    tokens = word_tokenize(target)\n",
    "    definitions = []\n",
    "    for i, token in enumerate(tokens):\n",
    "        synsets = wordnet.synsets(token)\n",
    "        if synsets:\n",
    "            synset = synsets[0] # choose the first synset\n",
    "            definition = synset.definition()\n",
    "            definitions.append(definition)\n",
    "        else:\n",
    "            definition = \"\"\n",
    "            definitions.append(definition)\n",
    "    return \" \". join(definitions)\n",
    "\n",
    "\n",
    "definitions = target.apply(phrase_expansion)\n",
    "print(definitions.unique())"
   ]
  },
  {
   "cell_type": "code",
   "execution_count": 6,
   "metadata": {},
   "outputs": [
    {
     "name": "stderr",
     "output_type": "stream",
     "text": [
      "[nltk_data] Downloading package wordnet to\n",
      "[nltk_data]     C:\\Users\\vikhy\\AppData\\Roaming\\nltk_data...\n",
      "[nltk_data]   Package wordnet is already up-to-date!\n"
     ]
    },
    {
     "name": "stdout",
     "output_type": "stream",
     "text": [
      "0       dear lord thank u for all of ur blessing forgi...\n",
      "1       Blessed are the peacemaker for they shall be c...\n",
      "2       I am not conformed to this world I am transfor...\n",
      "3       salad should be prayed with focus and understa...\n",
      "4       And stay in your house and do not display ours...\n",
      "                              ...                        \n",
      "3261    Ok he doe n't look like a mexican anymore but ...\n",
      "3262    Look around this crowd We are young old We are...\n",
      "3263    King Charles slavery research is not even bett...\n",
      "3264    In The Passion Of The Christ 2 Jesus get raped...\n",
      "3265    Congratulations 12yearsaslave Go to Africa or ...\n",
      "Name: Tweet, Length: 3266, dtype: object\n",
      "0       beloved Godhead thank uracil for all of Ur ble...\n",
      "1       bless are the conciliator for they shall beryl...\n",
      "2       iodine americium not conform to this universe ...\n",
      "3       salad should beryllium pray with focus and und...\n",
      "4       And stay inch your house and bash not display ...\n",
      "                              ...                        \n",
      "3261    Oklahoma helium Department_of_Energy n't expre...\n",
      "3262    expression about this crowd We are young old W...\n",
      "3263    king Charles bondage research be not evening b...\n",
      "3264    inch The passion Of The Jesus two Jesus get ra...\n",
      "3265    praise 12yearsaslave go to Africa Oregon barga...\n",
      "Name: Tweet, Length: 3266, dtype: object\n"
     ]
    }
   ],
   "source": [
    "# Query Reformulation\n",
    "\n",
    "import nltk\n",
    "from nltk.tokenize import word_tokenize\n",
    "from nltk.corpus import wordnet\n",
    "\n",
    "nltk.download(\"wordnet\")\n",
    "\n",
    "def query_reformulation(tweet):\n",
    "    words = word_tokenize(tweet)\n",
    "    reformulated_words = []\n",
    "    for word in words:\n",
    "        synsets = wordnet.synsets(word)\n",
    "        if synsets:\n",
    "            reformulated_word = synsets[0].lemmas()[0].name()\n",
    "            reformulated_words.append(reformulated_word)\n",
    "        else:\n",
    "            reformulated_words.append(word)\n",
    "    reformulated_query = \" \".join(reformulated_words)\n",
    "    return reformulated_query\n",
    "\n",
    "reformulated_tweets = tweets.apply(query_reformulation)\n",
    "print(tweets)\n",
    "print(reformulated_tweets)"
   ]
  },
  {
   "cell_type": "code",
   "execution_count": 7,
   "metadata": {},
   "outputs": [],
   "source": [
    "data = pd.concat([target, extended_target, definitions, tweets, reformulated_tweets, stance], \n",
    "                 keys=[\"target\", \"extended_target\", \"target_definition\", \"tweets\", \"reformulated_tweets\", \"stance\"], axis=1)\n",
    "data.to_csv(\"../Datasets/augmented_tweets.csv\", index=False)"
   ]
  },
  {
   "attachments": {},
   "cell_type": "markdown",
   "metadata": {},
   "source": [
    "# Restructure the data"
   ]
  },
  {
   "cell_type": "code",
   "execution_count": 8,
   "metadata": {},
   "outputs": [],
   "source": [
    "import pandas as pd\n",
    "\n",
    "data = pd.read_csv(\"../Datasets/augmented_tweets.csv\")\n",
    "target = data[\"target\"]\n",
    "extended_target = data[\"extended_target\"]\n",
    "target_definition = data[\"target_definition\"]\n",
    "tweets = data[\"tweets\"]\n",
    "reformulated_tweets = data[\"reformulated_tweets\"]\n",
    "\n",
    "stance = data[\"stance\"]\n",
    "\n",
    "\n",
    "# tweets_combined = tweets.str.cat(reformulated_tweets, sep=\" can be paraphrased as \")\n",
    "targets_combined = target.str.cat(extended_target, sep=\" which is same as \")\n",
    "targets_definitions_combined = targets_combined.str.cat(target_definition, sep=\" which is defined as \")\n",
    "combined_data = tweets.str.cat(targets_definitions_combined, sep=\" is related to \")\n",
    "\n",
    "\n",
    "\n",
    "final_data = pd.concat([combined_data, stance], keys=[\"Data\", \"Stance\"], axis=1)\n",
    "final_data.to_csv(\"../Datasets/restructured_data.csv\", index=False)"
   ]
  },
  {
   "cell_type": "code",
   "execution_count": null,
   "metadata": {},
   "outputs": [],
   "source": []
  },
  {
   "cell_type": "code",
   "execution_count": null,
   "metadata": {},
   "outputs": [],
   "source": []
  },
  {
   "cell_type": "code",
   "execution_count": null,
   "metadata": {},
   "outputs": [],
   "source": []
  },
  {
   "cell_type": "code",
   "execution_count": null,
   "metadata": {},
   "outputs": [],
   "source": []
  },
  {
   "cell_type": "code",
   "execution_count": null,
   "metadata": {},
   "outputs": [],
   "source": []
  },
  {
   "cell_type": "code",
   "execution_count": null,
   "metadata": {},
   "outputs": [],
   "source": []
  },
  {
   "cell_type": "code",
   "execution_count": null,
   "metadata": {},
   "outputs": [],
   "source": []
  }
 ],
 "metadata": {
  "kernelspec": {
   "display_name": "Python 3",
   "language": "python",
   "name": "python3"
  },
  "language_info": {
   "codemirror_mode": {
    "name": "ipython",
    "version": 3
   },
   "file_extension": ".py",
   "mimetype": "text/x-python",
   "name": "python",
   "nbconvert_exporter": "python",
   "pygments_lexer": "ipython3",
   "version": "3.10.7"
  },
  "orig_nbformat": 4
 },
 "nbformat": 4,
 "nbformat_minor": 2
}
